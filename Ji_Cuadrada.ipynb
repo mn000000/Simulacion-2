{
  "nbformat": 4,
  "nbformat_minor": 0,
  "metadata": {
    "colab": {
      "provenance": [],
      "authorship_tag": "ABX9TyNlQ7osdFyxTHOcBd6Kj7du",
      "include_colab_link": true
    },
    "kernelspec": {
      "name": "python3",
      "display_name": "Python 3"
    },
    "language_info": {
      "name": "python"
    }
  },
  "cells": [
    {
      "cell_type": "markdown",
      "metadata": {
        "id": "view-in-github",
        "colab_type": "text"
      },
      "source": [
        "<a href=\"https://colab.research.google.com/github/mn000000/Simulacion-2/blob/main/Ji_Cuadrada.ipynb\" target=\"_parent\"><img src=\"https://colab.research.google.com/assets/colab-badge.svg\" alt=\"Open In Colab\"/></a>"
      ]
    },
    {
      "cell_type": "code",
      "execution_count": 17,
      "metadata": {
        "colab": {
          "base_uri": "https://localhost:8080/"
        },
        "id": "QVCe51l_LyUy",
        "outputId": "47d54fba-c91e-4a37-bfe1-f944cfa04015"
      },
      "outputs": [
        {
          "output_type": "stream",
          "name": "stdout",
          "text": [
            "Estadística chi-cuadrado: 3.3333333333333335\n",
            "Valor p: 0.34303014613824234\n",
            "No podemos rechazar la hipótesis nula\n"
          ]
        }
      ],
      "source": [
        "import numpy as np\n",
        "from scipy.stats import chi2\n",
        "\n",
        "def prueba_chi_cuadrado(observados, esperados):\n",
        "    # Calcula la estadística chi-cuadrado\n",
        "    chi2_stat = ((observados - esperados) ** 2 / esperados).sum()\n",
        "\n",
        "    # Grados de libertad\n",
        "    df = len(observados) - 1\n",
        "\n",
        "    # Valor p (nivel de significancia)\n",
        "    p_value = 1 - chi2.cdf(chi2_stat, df)\n",
        "\n",
        "    return chi2_stat, p_value\n",
        "\n",
        "# Ejemplo de uso\n",
        "observados = np.array([10, 20, 30, 40])\n",
        "esperados = np.array([15, 15, 30, 40])\n",
        "\n",
        "chi2_stat, p_value = prueba_chi_cuadrado(observados, esperados)\n",
        "\n",
        "print(f\"Estadística chi-cuadrado: {chi2_stat}\")\n",
        "print(f\"Valor p: {p_value}\")\n",
        "\n",
        "if p_value < 0.05:\n",
        "    print(\"Rechazamos la hipótesis nula\")\n",
        "else:\n",
        "    print(\"No podemos rechazar la hipótesis nula\")\n"
      ]
    }
  ]
}