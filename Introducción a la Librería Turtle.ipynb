{
 "cells": [
  {
   "cell_type": "code",
   "execution_count": 1,
   "id": "44b60cb6-6167-4efd-bca7-b0b33bbee188",
   "metadata": {},
   "outputs": [],
   "source": [
    "import turtle\n",
    "\n",
    "# Crea una ventana para dibujar\n",
    "ventana = turtle.Screen()\n",
    "\n",
    "# Crea una tortuga\n",
    "tortuga = turtle.Turtle()\n",
    "\n",
    "# Dibuja un cuadrado\n",
    "for _ in range(4):\n",
    "    tortuga.forward(100)  # Avanza 100 unidades\n",
    "    tortuga.left(90)  # Gira 90 grados hacia la izquierda\n",
    "\n",
    "# Dibuja un círculo\n",
    "tortuga.penup()  # Levanta el lápiz para no dejar rastro\n",
    "tortuga.goto(0, -50)  # Mueve la tortuga al centro del círculo\n",
    "tortuga.pendown()  # Baja el lápiz para empezar a dibujar\n",
    "tortuga.circle(50)  # Dibuja un círculo con radio 50\n",
    "\n",
    "# Cierra la ventana al hacer clic\n",
    "ventana.mainloop()"
   ]
  },
  {
   "cell_type": "code",
   "execution_count": null,
   "id": "145a093c-28d5-4240-a589-ee90717ece9b",
   "metadata": {},
   "outputs": [],
   "source": []
  }
 ],
 "metadata": {
  "kernelspec": {
   "display_name": "Python 3 (ipykernel)",
   "language": "python",
   "name": "python3"
  },
  "language_info": {
   "codemirror_mode": {
    "name": "ipython",
    "version": 3
   },
   "file_extension": ".py",
   "mimetype": "text/x-python",
   "name": "python",
   "nbconvert_exporter": "python",
   "pygments_lexer": "ipython3",
   "version": "3.11.7"
  }
 },
 "nbformat": 4,
 "nbformat_minor": 5
}
