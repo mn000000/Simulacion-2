{
 "cells": [
  {
   "cell_type": "code",
   "execution_count": 7,
   "id": "2ccf4649",
   "metadata": {},
   "outputs": [],
   "source": [
    "import random"
   ]
  },
  {
   "cell_type": "code",
   "execution_count": 13,
   "id": "fc31943f",
   "metadata": {},
   "outputs": [],
   "source": [
    "def caminata(n):\n",
    "    y=0\n",
    "    for i in range(n):\n",
    "        paso=random.choice([\"N\",\"S\"])\n",
    "        if paso==\"N\":\n",
    "            y+=1\n",
    "        elif paso==\"S\":\n",
    "            y-=1\n",
    "    return(y)"
   ]
  },
  {
   "cell_type": "code",
   "execution_count": 16,
   "id": "7c48828d",
   "metadata": {},
   "outputs": [
    {
     "data": {
      "text/plain": [
       "4"
      ]
     },
     "execution_count": 16,
     "metadata": {},
     "output_type": "execute_result"
    }
   ],
   "source": [
    "caminata(10)"
   ]
  },
  {
   "cell_type": "code",
   "execution_count": 19,
   "id": "da2e005f",
   "metadata": {},
   "outputs": [
    {
     "name": "stdout",
     "output_type": "stream",
     "text": [
      "0 / distancia = 0\n",
      "4 / distancia = 4\n",
      "4 / distancia = 4\n",
      "-4 / distancia = 4\n",
      "0 / distancia = 0\n",
      "0 / distancia = 0\n",
      "-2 / distancia = 2\n",
      "0 / distancia = 0\n",
      "2 / distancia = 2\n",
      "8 / distancia = 8\n",
      "4 / distancia = 4\n",
      "-2 / distancia = 2\n",
      "4 / distancia = 4\n",
      "-2 / distancia = 2\n",
      "0 / distancia = 0\n",
      "-8 / distancia = 8\n",
      "-2 / distancia = 2\n",
      "-2 / distancia = 2\n",
      "0 / distancia = 0\n",
      "4 / distancia = 4\n",
      "0 / distancia = 0\n",
      "2 / distancia = 2\n",
      "2 / distancia = 2\n",
      "4 / distancia = 4\n",
      "0 / distancia = 0\n"
     ]
    }
   ],
   "source": [
    "for i in range(25):\n",
    "    c=caminata(10)\n",
    "    print(c,\"/ distancia =\",abs(c))"
   ]
  },
  {
   "cell_type": "code",
   "execution_count": 22,
   "id": "f4fc7b33",
   "metadata": {},
   "outputs": [
    {
     "name": "stdout",
     "output_type": "stream",
     "text": [
      "Pasos =  0  / % exitos =  100.0\n",
      "Pasos =  1  / % exitos =  100.0\n",
      "Pasos =  2  / % exitos =  100.0\n",
      "Pasos =  3  / % exitos =  100.0\n",
      "Pasos =  4  / % exitos =  100.0\n",
      "Pasos =  5  / % exitos =  93.65400000000001\n",
      "Pasos =  6  / % exitos =  96.916\n",
      "Pasos =  7  / % exitos =  87.264\n",
      "Pasos =  8  / % exitos =  92.872\n",
      "Pasos =  9  / % exitos =  82.05799999999999\n",
      "Pasos =  10  / % exitos =  89.05999999999999\n",
      "Pasos =  11  / % exitos =  77.432\n",
      "Pasos =  12  / % exitos =  85.31\n",
      "Pasos =  13  / % exitos =  73.256\n",
      "Pasos =  14  / % exitos =  81.78800000000001\n",
      "Pasos =  15  / % exitos =  69.882\n",
      "Pasos =  16  / % exitos =  79.38199999999999\n",
      "Pasos =  17  / % exitos =  66.46600000000001\n",
      "Pasos =  18  / % exitos =  76.19\n",
      "Pasos =  19  / % exitos =  63.67\n",
      "Pasos =  20  / % exitos =  73.564\n",
      "Pasos =  21  / % exitos =  61.556\n",
      "Pasos =  22  / % exitos =  71.66799999999999\n",
      "Pasos =  23  / % exitos =  59.562000000000005\n",
      "Pasos =  24  / % exitos =  69.068\n",
      "Pasos =  25  / % exitos =  57.245999999999995\n",
      "Pasos =  26  / % exitos =  67.438\n",
      "Pasos =  27  / % exitos =  56.03\n",
      "Pasos =  28  / % exitos =  65.27199999999999\n",
      "Pasos =  29  / % exitos =  54.342\n",
      "Pasos =  30  / % exitos =  64.01\n",
      "Pasos =  31  / % exitos =  52.68000000000001\n",
      "Pasos =  32  / % exitos =  62.41799999999999\n",
      "Pasos =  33  / % exitos =  51.428\n",
      "Pasos =  34  / % exitos =  60.618\n",
      "Pasos =  35  / % exitos =  49.938\n",
      "Pasos =  36  / % exitos =  59.440000000000005\n",
      "Pasos =  37  / % exitos =  48.84\n",
      "Pasos =  38  / % exitos =  58.17\n",
      "Pasos =  39  / % exitos =  47.754000000000005\n",
      "Pasos =  40  / % exitos =  56.858\n",
      "Pasos =  41  / % exitos =  46.68\n",
      "Pasos =  42  / % exitos =  55.824\n",
      "Pasos =  43  / % exitos =  45.888\n",
      "Pasos =  44  / % exitos =  55.181999999999995\n",
      "Pasos =  45  / % exitos =  44.842\n",
      "Pasos =  46  / % exitos =  53.796\n",
      "Pasos =  47  / % exitos =  43.882\n",
      "Pasos =  48  / % exitos =  53.042\n",
      "Pasos =  49  / % exitos =  43.112\n",
      "Pasos =  50  / % exitos =  51.798\n",
      "Pasos =  51  / % exitos =  42.364000000000004\n",
      "Pasos =  52  / % exitos =  51.196\n",
      "Pasos =  53  / % exitos =  41.63\n",
      "Pasos =  54  / % exitos =  50.32\n",
      "Pasos =  55  / % exitos =  41.077999999999996\n",
      "Pasos =  56  / % exitos =  49.15\n",
      "Pasos =  57  / % exitos =  39.954\n",
      "Pasos =  58  / % exitos =  48.594\n",
      "Pasos =  59  / % exitos =  39.641999999999996\n",
      "Pasos =  60  / % exitos =  48.058\n"
     ]
    }
   ],
   "source": [
    "numero_caminatas = 50000\n",
    "for longitud in range(61):\n",
    "    exitos=0\n",
    "    for i in range(numero_caminatas):\n",
    "        (y)=caminata(longitud)\n",
    "        distancia=abs(y)\n",
    "        if distancia<=4:\n",
    "            exitos+=1\n",
    "    porcentaje=float(exitos/numero_caminatas)\n",
    "    print(\"Pasos = \",longitud,\" / % exitos = \",100*porcentaje)"
   ]
  }
 ],
 "metadata": {
  "kernelspec": {
   "display_name": "Python 3 (ipykernel)",
   "language": "python",
   "name": "python3"
  },
  "language_info": {
   "codemirror_mode": {
    "name": "ipython",
    "version": 3
   },
   "file_extension": ".py",
   "mimetype": "text/x-python",
   "name": "python",
   "nbconvert_exporter": "python",
   "pygments_lexer": "ipython3",
   "version": "3.11.7"
  }
 },
 "nbformat": 4,
 "nbformat_minor": 5
}
