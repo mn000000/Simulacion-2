{
  "nbformat": 4,
  "nbformat_minor": 0,
  "metadata": {
    "colab": {
      "provenance": [],
      "authorship_tag": "ABX9TyNR+6mpMlAtdQif1ePSaNO2",
      "include_colab_link": true
    },
    "kernelspec": {
      "name": "python3",
      "display_name": "Python 3"
    },
    "language_info": {
      "name": "python"
    }
  },
  "cells": [
    {
      "cell_type": "markdown",
      "metadata": {
        "id": "view-in-github",
        "colab_type": "text"
      },
      "source": [
        "<a href=\"https://colab.research.google.com/github/mn000000/Simulacion-2/blob/main/Acierto_y_Error_Monte_Carlo.ipynb\" target=\"_parent\"><img src=\"https://colab.research.google.com/assets/colab-badge.svg\" alt=\"Open In Colab\"/></a>"
      ]
    },
    {
      "cell_type": "code",
      "execution_count": 4,
      "metadata": {
        "colab": {
          "base_uri": "https://localhost:8080/"
        },
        "id": "zvNs2fJNFB-D",
        "outputId": "a6c0d64f-0ad6-4b29-aaec-80fb51e93dca"
      },
      "outputs": [
        {
          "output_type": "stream",
          "name": "stdout",
          "text": [
            "Ingrese el límite inferior del intervalo en x: 0\n",
            "Ingrese el límite superior del intervalo en x: 1\n",
            "Ingrese el límite inferior del intervalo en y: 0\n",
            "Ingrese el límite superior del intervalo en y: 1\n",
            "Ingrese el número de puntos generados: 23\n",
            "Ingrese la función g(x) como una expresión algebraica (por ejemplo, x**2): x**3\n",
            "Estimación del área bajo la curva utilizando el Método Monte Carlo de Acierto y Error: 0.17391304347826086\n"
          ]
        }
      ],
      "source": [
        "import random\n",
        "\n",
        "def hit_or_miss_monte_carlo(g, a, b, c, d, N):\n",
        "    count_hits = 0\n",
        "    for _ in range(N):\n",
        "        x = random.uniform(a, b)\n",
        "        y = random.uniform(c, d)\n",
        "        if 0 <= y <= g(x):\n",
        "            count_hits += 1\n",
        "    area_rectangle = (b - a) * (d - c)\n",
        "    area_region_under_curve = (count_hits / N) * area_rectangle\n",
        "    return area_region_under_curve\n",
        "\n",
        "# Solicitar al usuario que ingrese la función g(x)\n",
        "def get_g_function():\n",
        "    g_expression = input(\"Ingrese la función g(x) como una expresión algebraica (por ejemplo, x**2): \")\n",
        "    return lambda x: eval(g_expression)\n",
        "\n",
        "def main():\n",
        "    # Ingresar los límites de la región rectangular\n",
        "    a = float(input(\"Ingrese el límite inferior del intervalo en x: \"))\n",
        "    b = float(input(\"Ingrese el límite superior del intervalo en x: \"))\n",
        "    c = float(input(\"Ingrese el límite inferior del intervalo en y: \"))\n",
        "    d = float(input(\"Ingrese el límite superior del intervalo en y: \"))\n",
        "    N = int(input(\"Ingrese el número de puntos generados: \"))\n",
        "\n",
        "    # Obtener la función g(x)\n",
        "    g = get_g_function()\n",
        "\n",
        "    # Calcular el área estimada bajo la curva\n",
        "    estimated_area_under_curve = hit_or_miss_monte_carlo(g, a, b, c, d, N)\n",
        "    print(\"Estimación del área bajo la curva utilizando el Método Monte Carlo de Acierto y Error:\", estimated_area_under_curve)\n",
        "\n",
        "if __name__ == \"__main__\":\n",
        "    main()"
      ]
    }
  ]
}