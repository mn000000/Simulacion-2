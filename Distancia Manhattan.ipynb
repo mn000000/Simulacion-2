{
 "cells": [
  {
   "cell_type": "code",
   "execution_count": 20,
   "id": "6a5eafea",
   "metadata": {},
   "outputs": [],
   "source": [
    "import random"
   ]
  },
  {
   "cell_type": "code",
   "execution_count": 21,
   "id": "70e90bd4",
   "metadata": {},
   "outputs": [],
   "source": [
    "def caminata(n):\n",
    "    x=0\n",
    "    y=0\n",
    "    for i in range(n):\n",
    "        paso=random.choice([\"N\",\"S\",\"E\",\"O\"])\n",
    "        if paso==\"N\":\n",
    "            y+=1\n",
    "        elif paso==\"S\":\n",
    "            y-=1\n",
    "        elif paso==\"E\":\n",
    "            x+=1\n",
    "        elif paso==\"O\":\n",
    "            x-=1\n",
    "    return(x,y)"
   ]
  },
  {
   "cell_type": "code",
   "execution_count": 22,
   "id": "665acb27",
   "metadata": {},
   "outputs": [
    {
     "data": {
      "text/plain": [
       "(0, 0)"
      ]
     },
     "execution_count": 22,
     "metadata": {},
     "output_type": "execute_result"
    }
   ],
   "source": [
    "caminata(20)"
   ]
  },
  {
   "cell_type": "code",
   "execution_count": 23,
   "id": "33e81960",
   "metadata": {},
   "outputs": [
    {
     "name": "stdout",
     "output_type": "stream",
     "text": [
      "(-2, 2) distancia = 4\n",
      "(0, 0) distancia = 0\n",
      "(-1, -1) distancia = 2\n",
      "(-2, -2) distancia = 4\n",
      "(-1, -1) distancia = 2\n",
      "(1, -3) distancia = 4\n",
      "(-1, -1) distancia = 2\n",
      "(4, 0) distancia = 4\n",
      "(2, 0) distancia = 2\n",
      "(-1, 5) distancia = 6\n",
      "(0, 4) distancia = 4\n",
      "(2, 2) distancia = 4\n",
      "(0, -2) distancia = 2\n",
      "(-2, 2) distancia = 4\n",
      "(1, 3) distancia = 4\n",
      "(-1, 1) distancia = 2\n",
      "(0, -2) distancia = 2\n",
      "(-3, -3) distancia = 6\n",
      "(-1, -1) distancia = 2\n",
      "(2, 0) distancia = 2\n",
      "(-1, -1) distancia = 2\n",
      "(1, 1) distancia = 2\n",
      "(0, 0) distancia = 0\n",
      "(-1, -1) distancia = 2\n",
      "(0, 6) distancia = 6\n"
     ]
    }
   ],
   "source": [
    "for i in range(25):\n",
    "    c=caminata(10)\n",
    "    print(c,\"distancia =\",abs(c[0])+abs(c[1]))"
   ]
  },
  {
   "cell_type": "code",
   "execution_count": 24,
   "id": "8d95114b",
   "metadata": {},
   "outputs": [
    {
     "name": "stdout",
     "output_type": "stream",
     "text": [
      "Pasos =  1  / % exitos =  100.0\n",
      "Pasos =  2  / % exitos =  100.0\n",
      "Pasos =  3  / % exitos =  100.0\n",
      "Pasos =  4  / % exitos =  100.0\n",
      "Pasos =  5  / % exitos =  100.0\n",
      "Pasos =  6  / % exitos =  95.39999999999999\n",
      "Pasos =  7  / % exitos =  96.2\n",
      "Pasos =  8  / % exitos =  85.8\n",
      "Pasos =  9  / % exitos =  94.39999999999999\n",
      "Pasos =  10  / % exitos =  79.80000000000001\n",
      "Pasos =  11  / % exitos =  88.6\n",
      "Pasos =  12  / % exitos =  73.6\n",
      "Pasos =  13  / % exitos =  82.19999999999999\n",
      "Pasos =  14  / % exitos =  69.0\n",
      "Pasos =  15  / % exitos =  76.4\n",
      "Pasos =  16  / % exitos =  61.0\n",
      "Pasos =  17  / % exitos =  74.6\n",
      "Pasos =  18  / % exitos =  59.599999999999994\n",
      "Pasos =  19  / % exitos =  68.2\n",
      "Pasos =  20  / % exitos =  54.6\n",
      "Pasos =  21  / % exitos =  62.2\n",
      "Pasos =  22  / % exitos =  48.8\n",
      "Pasos =  23  / % exitos =  65.0\n",
      "Pasos =  24  / % exitos =  51.4\n",
      "Pasos =  25  / % exitos =  60.8\n",
      "Pasos =  26  / % exitos =  47.0\n",
      "Pasos =  27  / % exitos =  56.599999999999994\n",
      "Pasos =  28  / % exitos =  43.4\n",
      "Pasos =  29  / % exitos =  54.6\n",
      "Pasos =  30  / % exitos =  39.0\n"
     ]
    }
   ],
   "source": [
    "numero_caminatas = 500\n",
    "for longitud in range(1,31):\n",
    "    exitos=0\n",
    "    for i in range(numero_caminatas):\n",
    "        (x,y)=caminata(longitud)\n",
    "        distancia=abs(x)+abs(y)\n",
    "        if distancia<=5:\n",
    "            exitos+=1\n",
    "    porcentaje=float(exitos/numero_caminatas)\n",
    "    print(\"Pasos = \",longitud,\" / % exitos = \",100*porcentaje)"
   ]
  },
  {
   "cell_type": "code",
   "execution_count": null,
   "id": "7a52003b",
   "metadata": {},
   "outputs": [],
   "source": []
  },
  {
   "cell_type": "code",
   "execution_count": null,
   "id": "31e80bbb",
   "metadata": {},
   "outputs": [],
   "source": []
  }
 ],
 "metadata": {
  "kernelspec": {
   "display_name": "Python 3 (ipykernel)",
   "language": "python",
   "name": "python3"
  },
  "language_info": {
   "codemirror_mode": {
    "name": "ipython",
    "version": 3
   },
   "file_extension": ".py",
   "mimetype": "text/x-python",
   "name": "python",
   "nbconvert_exporter": "python",
   "pygments_lexer": "ipython3",
   "version": "3.11.7"
  }
 },
 "nbformat": 4,
 "nbformat_minor": 5
}
