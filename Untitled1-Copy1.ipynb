{
 "cells": [
  {
   "cell_type": "code",
   "execution_count": 9,
   "id": "c300d58c",
   "metadata": {},
   "outputs": [],
   "source": [
    "import random"
   ]
  },
  {
   "cell_type": "code",
   "execution_count": 10,
   "id": "466af76a",
   "metadata": {},
   "outputs": [],
   "source": [
    "def caminata(n):\n",
    "    x=0\n",
    "    for i in range(n):\n",
    "        paso=random.choice([\"E\",\"O\"])\n",
    "        if paso==\"E\":\n",
    "            x+=1\n",
    "        elif paso==\"O\":\n",
    "            x-=1\n",
    "    return(x)"
   ]
  },
  {
   "cell_type": "code",
   "execution_count": 11,
   "id": "0e0767db",
   "metadata": {},
   "outputs": [
    {
     "data": {
      "text/plain": [
       "-2"
      ]
     },
     "execution_count": 11,
     "metadata": {},
     "output_type": "execute_result"
    }
   ],
   "source": [
    "caminata(10)"
   ]
  },
  {
   "cell_type": "code",
   "execution_count": 12,
   "id": "e68fdf66",
   "metadata": {},
   "outputs": [
    {
     "name": "stdout",
     "output_type": "stream",
     "text": [
      "-2 / distancia = 2\n",
      "2 / distancia = 2\n",
      "-4 / distancia = 4\n",
      "0 / distancia = 0\n",
      "2 / distancia = 2\n",
      "2 / distancia = 2\n",
      "0 / distancia = 0\n",
      "2 / distancia = 2\n",
      "6 / distancia = 6\n",
      "-2 / distancia = 2\n",
      "-2 / distancia = 2\n",
      "2 / distancia = 2\n",
      "-2 / distancia = 2\n",
      "-4 / distancia = 4\n",
      "0 / distancia = 0\n",
      "-6 / distancia = 6\n",
      "-4 / distancia = 4\n",
      "-4 / distancia = 4\n",
      "-4 / distancia = 4\n",
      "0 / distancia = 0\n",
      "0 / distancia = 0\n",
      "2 / distancia = 2\n",
      "8 / distancia = 8\n",
      "8 / distancia = 8\n",
      "-4 / distancia = 4\n"
     ]
    }
   ],
   "source": [
    "for i in range(25):\n",
    "    c=caminata(10)\n",
    "    print(c,\"/ distancia =\",abs(c))"
   ]
  },
  {
   "cell_type": "code",
   "execution_count": 13,
   "id": "d368a9d4",
   "metadata": {},
   "outputs": [
    {
     "name": "stdout",
     "output_type": "stream",
     "text": [
      "Pasos =  0  / % exitos =  100.0\n",
      "Pasos =  1  / % exitos =  100.0\n",
      "Pasos =  2  / % exitos =  100.0\n",
      "Pasos =  3  / % exitos =  100.0\n",
      "Pasos =  4  / % exitos =  100.0\n",
      "Pasos =  5  / % exitos =  93.77\n",
      "Pasos =  6  / % exitos =  96.87400000000001\n",
      "Pasos =  7  / % exitos =  87.456\n",
      "Pasos =  8  / % exitos =  93.016\n",
      "Pasos =  9  / % exitos =  82.002\n",
      "Pasos =  10  / % exitos =  89.01400000000001\n",
      "Pasos =  11  / % exitos =  77.488\n",
      "Pasos =  12  / % exitos =  85.20400000000001\n",
      "Pasos =  13  / % exitos =  73.252\n",
      "Pasos =  14  / % exitos =  81.706\n",
      "Pasos =  15  / % exitos =  69.358\n",
      "Pasos =  16  / % exitos =  79.47\n",
      "Pasos =  17  / % exitos =  66.816\n",
      "Pasos =  18  / % exitos =  76.18599999999999\n",
      "Pasos =  19  / % exitos =  64.24\n",
      "Pasos =  20  / % exitos =  73.618\n",
      "Pasos =  21  / % exitos =  61.653999999999996\n",
      "Pasos =  22  / % exitos =  71.46000000000001\n",
      "Pasos =  23  / % exitos =  59.653999999999996\n",
      "Pasos =  24  / % exitos =  69.118\n",
      "Pasos =  25  / % exitos =  57.57600000000001\n",
      "Pasos =  26  / % exitos =  67.096\n",
      "Pasos =  27  / % exitos =  55.494\n",
      "Pasos =  28  / % exitos =  65.63799999999999\n",
      "Pasos =  29  / % exitos =  54.26800000000001\n",
      "Pasos =  30  / % exitos =  63.92\n",
      "Pasos =  31  / % exitos =  52.906\n",
      "Pasos =  32  / % exitos =  62.224000000000004\n",
      "Pasos =  33  / % exitos =  51.504000000000005\n",
      "Pasos =  34  / % exitos =  60.85\n",
      "Pasos =  35  / % exitos =  50.129999999999995\n",
      "Pasos =  36  / % exitos =  59.29\n",
      "Pasos =  37  / % exitos =  48.924\n",
      "Pasos =  38  / % exitos =  58.184000000000005\n",
      "Pasos =  39  / % exitos =  47.976\n",
      "Pasos =  40  / % exitos =  56.754000000000005\n",
      "Pasos =  41  / % exitos =  46.778\n",
      "Pasos =  42  / % exitos =  56.076\n",
      "Pasos =  43  / % exitos =  45.495999999999995\n",
      "Pasos =  44  / % exitos =  54.85\n",
      "Pasos =  45  / % exitos =  45.042\n",
      "Pasos =  46  / % exitos =  53.396\n",
      "Pasos =  47  / % exitos =  43.97\n",
      "Pasos =  48  / % exitos =  52.190000000000005\n",
      "Pasos =  49  / % exitos =  43.431999999999995\n",
      "Pasos =  50  / % exitos =  52.048\n",
      "Pasos =  51  / % exitos =  42.246\n",
      "Pasos =  52  / % exitos =  51.392\n",
      "Pasos =  53  / % exitos =  40.974\n",
      "Pasos =  54  / % exitos =  50.122\n",
      "Pasos =  55  / % exitos =  40.884\n",
      "Pasos =  56  / % exitos =  49.6\n",
      "Pasos =  57  / % exitos =  40.788000000000004\n",
      "Pasos =  58  / % exitos =  48.58\n",
      "Pasos =  59  / % exitos =  39.922000000000004\n",
      "Pasos =  60  / % exitos =  47.978\n"
     ]
    }
   ],
   "source": [
    "numero_caminatas = 50000\n",
    "for longitud in range(61):\n",
    "    exitos=0\n",
    "    for i in range(numero_caminatas):\n",
    "        (x)=caminata(longitud)\n",
    "        distancia=abs(x)\n",
    "        if distancia<=4:\n",
    "            exitos+=1\n",
    "    porcentaje=float(exitos/numero_caminatas)\n",
    "    print(\"Pasos = \",longitud,\" / % exitos = \",100*porcentaje)"
   ]
  },
  {
   "cell_type": "code",
   "execution_count": null,
   "id": "e69d88e5",
   "metadata": {},
   "outputs": [],
   "source": []
  }
 ],
 "metadata": {
  "kernelspec": {
   "display_name": "Python 3 (ipykernel)",
   "language": "python",
   "name": "python3"
  },
  "language_info": {
   "codemirror_mode": {
    "name": "ipython",
    "version": 3
   },
   "file_extension": ".py",
   "mimetype": "text/x-python",
   "name": "python",
   "nbconvert_exporter": "python",
   "pygments_lexer": "ipython3",
   "version": "3.11.7"
  }
 },
 "nbformat": 4,
 "nbformat_minor": 5
}
