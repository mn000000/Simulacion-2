{
  "cells": [
    {
      "cell_type": "markdown",
      "metadata": {
        "id": "view-in-github",
        "colab_type": "text"
      },
      "source": [
        "<a href=\"https://colab.research.google.com/github/mn000000/Simulacion-2/blob/main/Comparacion%20Metodos%20Monte%20Carlo.ipynb\" target=\"_parent\"><img src=\"https://colab.research.google.com/assets/colab-badge.svg\" alt=\"Open In Colab\"/></a>"
      ]
    },
    {
      "cell_type": "markdown",
      "id": "a5cc0a87",
      "metadata": {
        "id": "a5cc0a87"
      },
      "source": [
        "# Metodología de la Simulación"
      ]
    },
    {
      "cell_type": "markdown",
      "id": "0e218d98",
      "metadata": {
        "id": "0e218d98"
      },
      "source": [
        "### 1. Identifique las variables\n",
        "\n",
        "Aquellas cuyo comportamiento define el comportamiento o la evoución global del sistema real."
      ]
    },
    {
      "cell_type": "markdown",
      "id": "3ebcd0f2",
      "metadata": {
        "id": "3ebcd0f2"
      },
      "source": [
        "### 2. Determine la distribución de probabilidad\n",
        "\n",
        "Elija el tipo de distribución de probabilidad que mejor defina el comportamiento aleatorio de cada una de las variables del sistema identificadas en el paso anterior."
      ]
    },
    {
      "cell_type": "markdown",
      "id": "803801d5",
      "metadata": {
        "id": "803801d5"
      },
      "source": [
        "### 3. Modele las variables aleatorias\n",
        "\n",
        "Cosntruya un modelo fiel de la aleatoriedad de las variables del sistema. Simular el comportamiento del sistema implica generar muestras aleatorias de cada variable que sigan fielmente la distribución de probabilidad correspondiente."
      ]
    },
    {
      "cell_type": "markdown",
      "id": "33709223",
      "metadata": {
        "id": "33709223"
      },
      "source": [
        "### 4. Defina el modelo del sistema y los objetivos de la simulación\n",
        "\n",
        "Fije los objetivos y diseñe un modelo del sistema real que abstraiga sus propiedades más relevantes. Todo error en el modelo (o su implementación computacional) puede dar lugar a conclusiones equivocadas.\n",
        "\n",
        "Antes de experimentar con el modelo, asegurarse de que refleja fielmente el sistema real **validando** el mismo a partir de datos reales, para ello compare los resultados obtenidos de la simulación con los producidos por el sistema."
      ]
    },
    {
      "cell_type": "markdown",
      "id": "7f853065",
      "metadata": {
        "id": "7f853065"
      },
      "source": [
        "### 5. Diseñe el experimento\n",
        "\n",
        "Diseñe un experimento así como las ejecuciones concretas del mismo, los escenarios que desea estudiar para alcanzar los objetivos fijados. El experimento consiste en generar valores de las variables cuyo comportamiento define el comportamiento del sistema y analizar este ante dichos valores."
      ]
    },
    {
      "cell_type": "markdown",
      "id": "15ae61c8",
      "metadata": {
        "id": "15ae61c8"
      },
      "source": [
        "### 6. Repita el experimento $n$ veces\n",
        "\n",
        "Así dispondrá de $n$ observaciones sobre el comportamiento del sistema, lo que permitirá entender su funcionamiento así como evaluar el desempeño del mismo frente a los diversos escenarios establecidos.\n",
        "\n",
        "El **método Monte Carlo** se basa en la **Ley Fuerte de los Grandes Números** y el **Teorema del Límite Central**."
      ]
    },
    {
      "cell_type": "markdown",
      "id": "51ce3fa1",
      "metadata": {
        "id": "51ce3fa1"
      },
      "source": [
        "## Ejemplo\n",
        "\n",
        "Calcule la probabilidad de que aparezcan dos caras lanzando tres veces una moneda al aire.\n",
        "\n",
        "1. Analíticamente.\n",
        "2. Mediante simulación."
      ]
    },
    {
      "cell_type": "markdown",
      "id": "6f1b4105",
      "metadata": {
        "id": "6f1b4105"
      },
      "source": [
        "Analiticamente:"
      ]
    },
    {
      "cell_type": "code",
      "execution_count": null,
      "id": "bb5e678d",
      "metadata": {
        "id": "bb5e678d"
      },
      "outputs": [],
      "source": []
    },
    {
      "cell_type": "markdown",
      "id": "564ca694",
      "metadata": {
        "id": "564ca694"
      },
      "source": [
        "Por simulación: Construimos el modelo en varios pasos."
      ]
    },
    {
      "cell_type": "markdown",
      "id": "fbbc8571",
      "metadata": {
        "id": "fbbc8571"
      },
      "source": [
        "**PASO 1**. Defina las variables que intervienen en el modelo."
      ]
    },
    {
      "cell_type": "code",
      "execution_count": null,
      "id": "37c5f31c",
      "metadata": {
        "id": "37c5f31c"
      },
      "outputs": [],
      "source": []
    },
    {
      "cell_type": "markdown",
      "id": "4d3899f3",
      "metadata": {
        "id": "4d3899f3"
      },
      "source": [
        "**PASO 2**. Formule la distribución de probabilidad de cada variable."
      ]
    },
    {
      "cell_type": "markdown",
      "id": "fefa1334",
      "metadata": {
        "id": "fefa1334"
      },
      "source": [
        "\n",
        "|      |**Sol**|**Aguila**|\n",
        "|------|-------|----------|\n",
        "|f(x)|         |          |"
      ]
    },
    {
      "cell_type": "markdown",
      "id": "fd02116a",
      "metadata": {
        "id": "fd02116a"
      },
      "source": [
        "**PASO 3**. Enumere la distribución acumulada de probabilidad de cada variable."
      ]
    },
    {
      "cell_type": "markdown",
      "id": "59e252c6",
      "metadata": {
        "id": "59e252c6"
      },
      "source": [
        "|      |**Sol**|**Aguila**|\n",
        "|------|-------|----------|\n",
        "|f(x)  |       |          |\n",
        "|F(x)  |       |          |"
      ]
    },
    {
      "cell_type": "markdown",
      "id": "4852dcac",
      "metadata": {
        "id": "4852dcac"
      },
      "source": [
        "**PASO 4**. Establezca el intervalo de números aleatorios correspondiente a cada valor de cada una de las variables."
      ]
    },
    {
      "cell_type": "markdown",
      "id": "905db069",
      "metadata": {
        "id": "905db069"
      },
      "source": [
        "|           |**Sol**|**Aguila**|\n",
        "|-----------|-------|----------|\n",
        "|f(x)       |       |          |\n",
        "|F(x)       |       |          |\n",
        "|Intervalos |       |          |"
      ]
    },
    {
      "cell_type": "markdown",
      "id": "edb6b074",
      "metadata": {
        "id": "edb6b074"
      },
      "source": [
        "**PASO 5**. Genere números aleatorios."
      ]
    },
    {
      "cell_type": "code",
      "execution_count": null,
      "id": "7d56c432",
      "metadata": {
        "id": "7d56c432"
      },
      "outputs": [],
      "source": []
    },
    {
      "cell_type": "markdown",
      "id": "f38f3396",
      "metadata": {
        "id": "f38f3396"
      },
      "source": [
        "**PASO 6**. Simule un lanzamiento."
      ]
    },
    {
      "cell_type": "markdown",
      "id": "a68ba17e",
      "metadata": {
        "id": "a68ba17e"
      },
      "source": [
        "Si Número de caras = 2       \n",
        "\n",
        "¿Aparecen dos caras? = **1**\n",
        "\n",
        "Si Número de caras ≠ 2       \n",
        "\n",
        "¿Aparecen dos caras? = **0**"
      ]
    },
    {
      "cell_type": "markdown",
      "id": "d270399e",
      "metadata": {
        "id": "d270399e"
      },
      "source": [
        "**PASO 7**. Obtenga la gráfica de estabilización que indica que el tamaño de muestra utilizado es suficiente para\n",
        "garantizar la convergencia del resultado."
      ]
    },
    {
      "cell_type": "code",
      "execution_count": 1,
      "id": "2fd22e33",
      "metadata": {
        "id": "2fd22e33"
      },
      "outputs": [],
      "source": [
        "import numpy as np\n",
        "import random\n",
        "import matplotlib.pyplot as plt"
      ]
    },
    {
      "cell_type": "code",
      "execution_count": 2,
      "id": "32719c0f",
      "metadata": {
        "id": "32719c0f"
      },
      "outputs": [],
      "source": [
        "def volados(n):\n",
        "    caras = 0\n",
        "    for i in range(n):\n",
        "        u = random.uniform(0,1)\n",
        "        if u <= 0.5:\n",
        "            caras += 1\n",
        "    return caras"
      ]
    },
    {
      "cell_type": "code",
      "execution_count": 3,
      "id": "423546a4",
      "metadata": {
        "id": "423546a4"
      },
      "outputs": [],
      "source": [
        "def caras(m):\n",
        "    favorable = 0\n",
        "    if volados(3) == m:\n",
        "        favorable +=1\n",
        "    return favorable"
      ]
    },
    {
      "cell_type": "code",
      "execution_count": 4,
      "id": "0d2847cf",
      "metadata": {
        "id": "0d2847cf"
      },
      "outputs": [],
      "source": [
        "def experimento(iteraciones):\n",
        "    i = 0\n",
        "    favorables=0\n",
        "    Lista = []\n",
        "    while i <= iteraciones:\n",
        "        favorables = favorables + caras(2)\n",
        "        i += 1\n",
        "        probabilidad = favorables/i\n",
        "        Lista.append(probabilidad)\n",
        "    return Lista"
      ]
    },
    {
      "cell_type": "code",
      "execution_count": 5,
      "id": "548249d8",
      "metadata": {
        "id": "548249d8"
      },
      "outputs": [],
      "source": [
        "exp = experimento(2000)"
      ]
    },
    {
      "cell_type": "code",
      "execution_count": 6,
      "id": "566325f4",
      "metadata": {
        "colab": {
          "base_uri": "https://localhost:8080/"
        },
        "id": "566325f4",
        "outputId": "0717547f-d7e5-41e0-8348-e0a7119d7d4a"
      },
      "outputs": [
        {
          "output_type": "execute_result",
          "data": {
            "text/plain": [
              "0.37908653956324456"
            ]
          },
          "metadata": {},
          "execution_count": 6
        }
      ],
      "source": [
        "np.mean(exp)"
      ]
    },
    {
      "cell_type": "code",
      "execution_count": 7,
      "id": "ef68f87c",
      "metadata": {
        "colab": {
          "base_uri": "https://localhost:8080/",
          "height": 472
        },
        "id": "ef68f87c",
        "outputId": "e419424b-9aee-40a3-922a-d7572d9a778d"
      },
      "outputs": [
        {
          "output_type": "display_data",
          "data": {
            "text/plain": [
              "<Figure size 640x480 with 1 Axes>"
            ],
            "image/png": "[encoded data removed]"
          },
          "metadata": {}
        }
      ],
      "source": [
        "plt.plot(exp)\n",
        "plt.xlabel('iteraciones')\n",
        "plt.ylabel('p')\n",
        "plt.title('Probabilidad de obtener 2 caras')\n",
        "plt.show()"
      ]
    },
    {
      "cell_type": "markdown",
      "id": "f596fcd1",
      "metadata": {
        "id": "f596fcd1"
      },
      "source": [
        "**PASO 8**. Replique el modelo."
      ]
    },
    {
      "cell_type": "code",
      "execution_count": 8,
      "id": "b237f0d0",
      "metadata": {
        "id": "b237f0d0"
      },
      "outputs": [],
      "source": [
        "def simulacion_caras(repeticiones):\n",
        "    List = []\n",
        "    for i in range(repeticiones):\n",
        "        List.append(np.mean(experimento(1000)))\n",
        "    return List"
      ]
    },
    {
      "cell_type": "code",
      "execution_count": 9,
      "id": "d060db89",
      "metadata": {
        "id": "d060db89"
      },
      "outputs": [],
      "source": [
        "simulacion = simulacion_caras(50)"
      ]
    },
    {
      "cell_type": "code",
      "execution_count": 10,
      "id": "cc0b958d",
      "metadata": {
        "colab": {
          "base_uri": "https://localhost:8080/",
          "height": 472
        },
        "id": "cc0b958d",
        "outputId": "02cd2dc4-86b8-4c2f-a169-03f756486765"
      },
      "outputs": [
        {
          "output_type": "display_data",
          "data": {
            "text/plain": [
              "<Figure size 640x480 with 1 Axes>"
            ],
            "image/png": "[encoded data removed]"
          },
          "metadata": {}
        }
      ],
      "source": [
        "plt.hist(simulacion)\n",
        "plt.xlabel('iteraciones')\n",
        "plt.ylabel('p')\n",
        "plt.title('Probabilidad')\n",
        "plt.show()"
      ]
    },
    {
      "cell_type": "markdown",
      "id": "6e9bd469",
      "metadata": {
        "id": "6e9bd469"
      },
      "source": [
        "**PASO 9**. Calcule la probabilidad de que aparezcan dos caras lanzando tres veces una moneda al aire y su desviación\n",
        "estándar."
      ]
    },
    {
      "cell_type": "code",
      "execution_count": 11,
      "id": "dbeb0461",
      "metadata": {
        "colab": {
          "base_uri": "https://localhost:8080/"
        },
        "id": "dbeb0461",
        "outputId": "e68d57bf-a6a2-4e22-d43b-a6fccc9f8059"
      },
      "outputs": [
        {
          "output_type": "execute_result",
          "data": {
            "text/plain": [
              "(0.3700772661800743, 0.00021693042429014916, 0.014728558119861875)"
            ]
          },
          "metadata": {},
          "execution_count": 11
        }
      ],
      "source": [
        "np.mean(simulacion), np.var(simulacion), np.std(simulacion)"
      ]
    },
    {
      "cell_type": "markdown",
      "id": "db8776d2",
      "metadata": {
        "id": "db8776d2"
      },
      "source": [
        "**PASO 10**. Halle el intervalo de confianza de la probabilidad de queaparezcan dos caras lanzando tres veces una moneda\n",
        "al aire con un nivel de confianza del $95 \\%$."
      ]
    },
    {
      "cell_type": "code",
      "execution_count": null,
      "id": "e5132329",
      "metadata": {
        "id": "e5132329"
      },
      "outputs": [],
      "source": []
    },
    {
      "cell_type": "markdown",
      "id": "15cc2338",
      "metadata": {
        "id": "15cc2338"
      },
      "source": [
        "# Estimación de la Integral usando Diferentes Métodos de Monte Carlo"
      ]
    },
    {
      "cell_type": "markdown",
      "id": "d8016488",
      "metadata": {
        "id": "d8016488"
      },
      "source": [
        "\n",
        "En esta notebook, implementaremos los métodos de Media Muestral, Acierto y Error, Muestreo de Importancia, y Muestreo Estratificado para estimar la integral de la función $f(x) = \\frac{\\exp(x) - 1}{e - 1}$ en el intervalo (0, 1). Compararemos los resultados y la razón de varianzas.\n"
      ]
    },
    {
      "cell_type": "code",
      "execution_count": 12,
      "id": "482f350e",
      "metadata": {
        "id": "482f350e"
      },
      "outputs": [],
      "source": [
        "\n",
        "import numpy as np\n",
        "import matplotlib.pyplot as plt\n",
        "import pandas as pd\n"
      ]
    },
    {
      "cell_type": "markdown",
      "id": "18629264",
      "metadata": {
        "id": "18629264"
      },
      "source": [
        "## Función a Integrar"
      ]
    },
    {
      "cell_type": "code",
      "execution_count": 13,
      "id": "1af2532b",
      "metadata": {
        "id": "1af2532b"
      },
      "outputs": [],
      "source": [
        "\n",
        "def f(x):\n",
        "    return (np.exp(x) - 1) / (np.e - 1)\n"
      ]
    },
    {
      "cell_type": "markdown",
      "id": "b094e28f",
      "metadata": {
        "id": "b094e28f"
      },
      "source": [
        "## Estimación usando la Media Muestral"
      ]
    },
    {
      "cell_type": "code",
      "execution_count": 14,
      "id": "89dc4197",
      "metadata": {
        "colab": {
          "base_uri": "https://localhost:8080/"
        },
        "id": "89dc4197",
        "outputId": "07d7aeda-8b7e-4843-9a47-a2ed0fed79aa"
      },
      "outputs": [
        {
          "output_type": "stream",
          "name": "stdout",
          "text": [
            "Media Muestral: Estimación = 0.4186879160331251, Varianza = 0.08134360671919659\n"
          ]
        }
      ],
      "source": [
        "\n",
        "def media_muestral(f, N):\n",
        "    U = np.random.uniform(0, 1, N)\n",
        "    estimacion = np.mean(f(U))\n",
        "    varianza = np.var(f(U))\n",
        "    return estimacion, varianza\n",
        "\n",
        "N = 10000\n",
        "estimacion_mm, varianza_mm = media_muestral(f, N)\n",
        "print(f\"Media Muestral: Estimación = {estimacion_mm}, Varianza = {varianza_mm}\")\n"
      ]
    },
    {
      "cell_type": "markdown",
      "id": "5914a7b2",
      "metadata": {
        "id": "5914a7b2"
      },
      "source": [
        "## Estimación usando el Método de Acierto y Error"
      ]
    },
    {
      "cell_type": "code",
      "execution_count": 15,
      "id": "f7d11a03",
      "metadata": {
        "colab": {
          "base_uri": "https://localhost:8080/"
        },
        "id": "f7d11a03",
        "outputId": "3772a50d-5829-45f7-f90a-f4e019cb4196"
      },
      "outputs": [
        {
          "output_type": "stream",
          "name": "stdout",
          "text": [
            "Acierto y Error: Estimación = 0.4184, Varianza = 2.4334144e-05\n"
          ]
        }
      ],
      "source": [
        "\n",
        "def acierto_error(f, N):\n",
        "    U = np.random.uniform(0, 1, N)\n",
        "    U_prime = np.random.uniform(0, 1, N)\n",
        "    NH = np.sum(f(U) >= U_prime)\n",
        "    estimacion = NH / N\n",
        "    varianza = estimacion * (1 - estimacion) / N\n",
        "    return estimacion, varianza\n",
        "\n",
        "estimacion_ae, varianza_ae = acierto_error(f, N)\n",
        "print(f\"Acierto y Error: Estimación = {estimacion_ae}, Varianza = {varianza_ae}\")\n"
      ]
    },
    {
      "cell_type": "markdown",
      "id": "6a21084a",
      "metadata": {
        "id": "6a21084a"
      },
      "source": [
        "## Estimación usando el Muestreo de Importancia"
      ]
    },
    {
      "cell_type": "code",
      "execution_count": 16,
      "id": "e85dd208",
      "metadata": {
        "colab": {
          "base_uri": "https://localhost:8080/"
        },
        "id": "e85dd208",
        "outputId": "e312d7be-592d-47bb-ca3f-0c4fa2e4c87f"
      },
      "outputs": [
        {
          "output_type": "stream",
          "name": "stdout",
          "text": [
            "Muestreo de Importancia: Estimación = 265185.20550674276, Varianza = 683715274478579.6\n"
          ]
        }
      ],
      "source": [
        "\n",
        "def muestreo_importancia(f, N):\n",
        "    g = lambda x: np.exp(-x)  # Función de muestreo\n",
        "    X = np.random.exponential(1, N)\n",
        "    estimacion = np.mean(f(X) / g(X))\n",
        "    varianza = np.var(f(X) / g(X))\n",
        "    return estimacion, varianza\n",
        "\n",
        "estimacion_mi, varianza_mi = muestreo_importancia(f, N)\n",
        "print(f\"Muestreo de Importancia: Estimación = {estimacion_mi}, Varianza = {varianza_mi}\")\n"
      ]
    },
    {
      "cell_type": "markdown",
      "id": "099fc478",
      "metadata": {
        "id": "099fc478"
      },
      "source": [
        "## Estimación usando el Muestreo Estratificado"
      ]
    },
    {
      "cell_type": "code",
      "execution_count": 17,
      "id": "9b15922f",
      "metadata": {
        "colab": {
          "base_uri": "https://localhost:8080/"
        },
        "id": "9b15922f",
        "outputId": "63d25c9d-6e78-4de2-c086-0858c51fae3b"
      },
      "outputs": [
        {
          "output_type": "stream",
          "name": "stdout",
          "text": [
            "Muestreo Estratificado: Estimación = 0.41838211225666794, Varianza = 0.08222805840638017\n"
          ]
        }
      ],
      "source": [
        "\n",
        "def muestreo_estratificado(f, N, L=10):\n",
        "    stratified_samples = []\n",
        "    for i in range(L):\n",
        "        U = np.random.uniform(i/L, (i+1)/L, N//L)\n",
        "        stratified_samples.append(f(U))\n",
        "    stratified_samples = np.concatenate(stratified_samples)\n",
        "    estimacion = np.mean(stratified_samples)\n",
        "    varianza = np.var(stratified_samples)\n",
        "    return estimacion, varianza\n",
        "\n",
        "estimacion_me, varianza_me = muestreo_estratificado(f, N)\n",
        "print(f\"Muestreo Estratificado: Estimación = {estimacion_me}, Varianza = {varianza_me}\")\n"
      ]
    },
    {
      "cell_type": "markdown",
      "id": "1883f571",
      "metadata": {
        "id": "1883f571"
      },
      "source": [
        "## Comparación de Resultados"
      ]
    },
    {
      "cell_type": "code",
      "execution_count": 18,
      "id": "3a3fb4e6",
      "metadata": {
        "colab": {
          "base_uri": "https://localhost:8080/"
        },
        "id": "3a3fb4e6",
        "outputId": "ba099e67-7a62-4392-e324-ab4ed8bfdc5a"
      },
      "outputs": [
        {
          "output_type": "stream",
          "name": "stdout",
          "text": [
            "                    Método     Estimación      Varianza  Razón de Varianzas\n",
            "0           Media Muestral       0.418688  8.134361e-02        3.342777e+03\n",
            "1          Acierto y Error       0.418400  2.433414e-05        1.000000e+00\n",
            "2  Muestreo de Importancia  265185.205507  6.837153e+14        2.809695e+19\n",
            "3   Muestreo Estratificado       0.418382  8.222806e-02        3.379123e+03\n"
          ]
        }
      ],
      "source": [
        "\n",
        "resultados = {\n",
        "    'Método': ['Media Muestral', 'Acierto y Error', 'Muestreo de Importancia', 'Muestreo Estratificado'],\n",
        "    'Estimación': [estimacion_mm, estimacion_ae, estimacion_mi, estimacion_me],\n",
        "    'Varianza': [varianza_mm, varianza_ae, varianza_mi, varianza_me]\n",
        "}\n",
        "\n",
        "df_resultados = pd.DataFrame(resultados)\n",
        "df_resultados['Razón de Varianzas'] = df_resultados['Varianza'] / df_resultados['Varianza'].min()\n",
        "\n",
        "print(df_resultados)\n"
      ]
    }
  ],
  "metadata": {
    "kernelspec": {
      "display_name": "Python 3 (ipykernel)",
      "language": "python",
      "name": "python3"
    },
    "language_info": {
      "codemirror_mode": {
        "name": "ipython",
        "version": 3
      },
      "file_extension": ".py",
      "mimetype": "text/x-python",
      "name": "python",
      "nbconvert_exporter": "python",
      "pygments_lexer": "ipython3",
      "version": "3.7.3"
    },
    "colab": {
      "provenance": [],
      "include_colab_link": true
    }
  },
  "nbformat": 4,
  "nbformat_minor": 5
}